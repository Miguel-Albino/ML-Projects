{
 "cells": [
  {
   "cell_type": "markdown",
   "metadata": {},
   "source": [
    "# Heart Attack Prediction"
   ]
  },
  {
   "cell_type": "code",
   "execution_count": 62,
   "metadata": {},
   "outputs": [],
   "source": [
    "import pandas as pd\n",
    "import numpy as np\n",
    "import matplotlib.pyplot as plt\n",
    "import seaborn as sns\n",
    "from sklearn.preprocessing import StandardScaler, OneHotEncoder\n",
    "from sklearn.model_selection import train_test_split, GridSearchCV\n",
    "from sklearn.linear_model import LogisticRegression\n",
    "from sklearn.metrics import confusion_matrix\n",
    "from sklearn.svm import SVC\n",
    "from sklearn.tree import DecisionTreeClassifier\n",
    "from sklearn.ensemble import RandomForestClassifier"
   ]
  },
  {
   "cell_type": "code",
   "execution_count": 4,
   "metadata": {},
   "outputs": [
    {
     "name": "stdout",
     "output_type": "stream",
     "text": [
      "Info:\n",
      "    age  sex  cp  trtbps  chol  fbs  restecg  thalachh  exng  oldpeak  slp  \\\n",
      "0   63    1   3     145   233    1        0       150     0      2.3    0   \n",
      "1   37    1   2     130   250    0        1       187     0      3.5    0   \n",
      "2   41    0   1     130   204    0        0       172     0      1.4    2   \n",
      "3   56    1   1     120   236    0        1       178     0      0.8    2   \n",
      "4   57    0   0     120   354    0        1       163     1      0.6    2   \n",
      "\n",
      "   caa  thall  output  \n",
      "0    0      1       1  \n",
      "1    0      2       1  \n",
      "2    0      2       1  \n",
      "3    0      2       1  \n",
      "4    0      2       1  \n",
      "\n",
      "Data Shape: \n",
      " (303, 14)\n",
      "Description:\n",
      "               age         sex          cp      trtbps        chol         fbs  \\\n",
      "count  303.000000  303.000000  303.000000  303.000000  303.000000  303.000000   \n",
      "mean    54.366337    0.683168    0.966997  131.623762  246.264026    0.148515   \n",
      "std      9.082101    0.466011    1.032052   17.538143   51.830751    0.356198   \n",
      "min     29.000000    0.000000    0.000000   94.000000  126.000000    0.000000   \n",
      "25%     47.500000    0.000000    0.000000  120.000000  211.000000    0.000000   \n",
      "50%     55.000000    1.000000    1.000000  130.000000  240.000000    0.000000   \n",
      "75%     61.000000    1.000000    2.000000  140.000000  274.500000    0.000000   \n",
      "max     77.000000    1.000000    3.000000  200.000000  564.000000    1.000000   \n",
      "\n",
      "          restecg    thalachh        exng     oldpeak         slp         caa  \\\n",
      "count  303.000000  303.000000  303.000000  303.000000  303.000000  303.000000   \n",
      "mean     0.528053  149.646865    0.326733    1.039604    1.399340    0.729373   \n",
      "std      0.525860   22.905161    0.469794    1.161075    0.616226    1.022606   \n",
      "min      0.000000   71.000000    0.000000    0.000000    0.000000    0.000000   \n",
      "25%      0.000000  133.500000    0.000000    0.000000    1.000000    0.000000   \n",
      "50%      1.000000  153.000000    0.000000    0.800000    1.000000    0.000000   \n",
      "75%      1.000000  166.000000    1.000000    1.600000    2.000000    1.000000   \n",
      "max      2.000000  202.000000    1.000000    6.200000    2.000000    4.000000   \n",
      "\n",
      "            thall      output  \n",
      "count  303.000000  303.000000  \n",
      "mean     2.313531    0.544554  \n",
      "std      0.612277    0.498835  \n",
      "min      0.000000    0.000000  \n",
      "25%      2.000000    0.000000  \n",
      "50%      2.000000    1.000000  \n",
      "75%      3.000000    1.000000  \n",
      "max      3.000000    1.000000  \n",
      "\n",
      " Sum of label events: \n",
      " 1    165\n",
      "0    138\n",
      "Name: output, dtype: int64\n",
      "We have an balanced dataset\n"
     ]
    }
   ],
   "source": [
    "## Import dataset\n",
    "df = pd.read_csv('heart.csv')\n",
    "\n",
    "print('Info:\\n', df.head())\n",
    "\n",
    "print('\\nData Shape: \\n', df.shape)\n",
    "\n",
    "print('Description:\\n', df.describe())\n",
    "\n",
    "print('\\n Sum of label events: \\n', df['output'].value_counts())\n",
    "\n",
    "print('We have an balanced dataset')"
   ]
  },
  {
   "cell_type": "code",
   "execution_count": 5,
   "metadata": {},
   "outputs": [
    {
     "name": "stdout",
     "output_type": "stream",
     "text": [
      "Null values: \n",
      " age         0\n",
      "sex         0\n",
      "cp          0\n",
      "trtbps      0\n",
      "chol        0\n",
      "fbs         0\n",
      "restecg     0\n",
      "thalachh    0\n",
      "exng        0\n",
      "oldpeak     0\n",
      "slp         0\n",
      "caa         0\n",
      "thall       0\n",
      "output      0\n",
      "dtype: int64\n",
      "\n",
      " sex        2\n",
      "cp         4\n",
      "fbs        2\n",
      "restecg    3\n",
      "exng       2\n",
      "slp        3\n",
      "caa        5\n",
      "thall      4\n",
      "dtype: int64\n"
     ]
    }
   ],
   "source": [
    "#Check for null values\n",
    "print('Null values: \\n', df.isna().sum())\n",
    "\n",
    "# list of categorical values\n",
    "cat_list = ['sex','cp','fbs', 'restecg', 'exng','slp','caa','thall']\n",
    "\n",
    "# check unique values of features\n",
    "print('\\n', df[cat_list].nunique())"
   ]
  },
  {
   "cell_type": "code",
   "execution_count": 6,
   "metadata": {},
   "outputs": [
    {
     "name": "stdout",
     "output_type": "stream",
     "text": [
      "Before:\n",
      " age           int64\n",
      "sex           int64\n",
      "cp            int64\n",
      "trtbps        int64\n",
      "chol          int64\n",
      "fbs           int64\n",
      "restecg       int64\n",
      "thalachh      int64\n",
      "exng          int64\n",
      "oldpeak     float64\n",
      "slp           int64\n",
      "caa           int64\n",
      "thall         int64\n",
      "output        int64\n",
      "dtype: object\n",
      "After:\n",
      " age            int64\n",
      "sex         category\n",
      "cp          category\n",
      "trtbps         int64\n",
      "chol           int64\n",
      "fbs         category\n",
      "restecg     category\n",
      "thalachh       int64\n",
      "exng        category\n",
      "oldpeak      float64\n",
      "slp         category\n",
      "caa         category\n",
      "thall       category\n",
      "output         int64\n",
      "dtype: object\n"
     ]
    }
   ],
   "source": [
    "# Change type of categorical variables to 'category'\n",
    "\n",
    "print('Before:\\n',df.dtypes)\n",
    "\n",
    "df[cat_list] = df[cat_list].astype('category')\n",
    "\n",
    "print('After:\\n',df.dtypes)"
   ]
  },
  {
   "cell_type": "code",
   "execution_count": 7,
   "metadata": {},
   "outputs": [
    {
     "name": "stdout",
     "output_type": "stream",
     "text": [
      "(303, 13) (303,)\n"
     ]
    }
   ],
   "source": [
    "#isolate the target - y\n",
    "\n",
    "y = df.output\n",
    "df = df.drop(['output'], axis = 1)\n",
    "\n",
    "print(df.shape,y.shape)"
   ]
  },
  {
   "cell_type": "code",
   "execution_count": 8,
   "metadata": {},
   "outputs": [
    {
     "name": "stdout",
     "output_type": "stream",
     "text": [
      "Description of the numerical features\n",
      "              age      trtbps        chol    thalachh     oldpeak\n",
      "count  303.000000  303.000000  303.000000  303.000000  303.000000\n",
      "mean    54.366337  131.623762  246.264026  149.646865    1.039604\n",
      "std      9.082101   17.538143   51.830751   22.905161    1.161075\n",
      "min     29.000000   94.000000  126.000000   71.000000    0.000000\n",
      "25%     47.500000  120.000000  211.000000  133.500000    0.000000\n",
      "50%     55.000000  130.000000  240.000000  153.000000    0.800000\n",
      "75%     61.000000  140.000000  274.500000  166.000000    1.600000\n",
      "max     77.000000  200.000000  564.000000  202.000000    6.200000\n"
     ]
    },
    {
     "data": {
      "image/png": "[encoded data removed]",
      "text/plain": [
       "<Figure size 432x288 with 1 Axes>"
      ]
     },
     "metadata": {
      "needs_background": "light"
     },
     "output_type": "display_data"
    },
    {
     "name": "stdout",
     "output_type": "stream",
     "text": [
      "As we can see, the range of values between features are very different, so we should standardize them.\n"
     ]
    }
   ],
   "source": [
    "# Check description of numerical values\n",
    "df_num = df[df.columns[~df.columns.isin(cat_list)]]\n",
    "print('Description of the numerical features')\n",
    "print(df_num.describe())\n",
    "\n",
    "ax = sns.boxplot(data=df_num)\n",
    "plt.show()\n",
    "\n",
    "print('As we can see, the range of values between features are very different, so we should standardize them.')"
   ]
  },
  {
   "cell_type": "code",
   "execution_count": 9,
   "metadata": {},
   "outputs": [
    {
     "data": {
      "image/png": "[encoded data removed]",
      "text/plain": [
       "<Figure size 432x288 with 2 Axes>"
      ]
     },
     "metadata": {
      "needs_background": "light"
     },
     "output_type": "display_data"
    },
    {
     "name": "stdout",
     "output_type": "stream",
     "text": [
      "As we can see from the corr matrx above, theres is no evident correlation between numerical features.       In this case we can not select features to drop. \n"
     ]
    }
   ],
   "source": [
    "# But first let's see if it exists any correlation between them\n",
    "corr_mtrx = df_num.corr()\n",
    "\n",
    "sns.heatmap(corr_mtrx, vmin=-1, vmax=1)\n",
    "plt.title('Correlation matrix')\n",
    "plt.show()\n",
    "\n",
    "print(\"As we can see from the corr matrx above, theres is no evident correlation between numerical features. \\\n",
    "      In this case we can not select features to drop. \")"
   ]
  },
  {
   "cell_type": "code",
   "execution_count": 10,
   "metadata": {},
   "outputs": [
    {
     "name": "stdout",
     "output_type": "stream",
     "text": [
      "     age  trtbps  chol  thalachh  oldpeak\n",
      "0     63     145   233       150      2.3\n",
      "1     37     130   250       187      3.5\n",
      "2     41     130   204       172      1.4\n",
      "3     56     120   236       178      0.8\n",
      "4     57     120   354       163      0.6\n",
      "..   ...     ...   ...       ...      ...\n",
      "298   57     140   241       123      0.2\n",
      "299   45     110   264       132      1.2\n",
      "300   68     144   193       141      3.4\n",
      "301   57     130   131       115      1.2\n",
      "302   57     130   236       174      0.0\n",
      "\n",
      "[303 rows x 5 columns]\n",
      "          age sex cp    trtbps      chol fbs restecg  thalachh exng   oldpeak  \\\n",
      "0    0.952197   1  3  0.763956 -0.256334   1       0  0.015443    0  1.087338   \n",
      "1   -1.915313   1  2 -0.092738  0.072199   0       1  1.633471    0  2.122573   \n",
      "2   -1.474158   0  1 -0.092738 -0.816773   0       0  0.977514    0  0.310912   \n",
      "3    0.180175   1  1 -0.663867 -0.198357   0       1  1.239897    0 -0.206705   \n",
      "4    0.290464   0  0 -0.663867  2.082050   0       1  0.583939    1 -0.379244   \n",
      "..        ...  .. ..       ...       ...  ..     ...       ...  ...       ...   \n",
      "298  0.290464   0  0  0.478391 -0.101730   0       1 -1.165281    1 -0.724323   \n",
      "299 -1.033002   1  3 -1.234996  0.342756   0       1 -0.771706    0  0.138373   \n",
      "300  1.503641   1  0  0.706843 -1.029353   1       1 -0.378132    0  2.036303   \n",
      "301  0.290464   1  0 -0.092738 -2.227533   0       1 -1.515125    1  0.138373   \n",
      "302  0.290464   0  1 -0.092738 -0.198357   0       0  1.064975    0 -0.896862   \n",
      "\n",
      "    slp caa thall  \n",
      "0     0   0     1  \n",
      "1     0   0     2  \n",
      "2     2   0     2  \n",
      "3     2   0     2  \n",
      "4     2   0     2  \n",
      "..   ..  ..   ...  \n",
      "298   1   0     3  \n",
      "299   1   0     3  \n",
      "300   1   2     3  \n",
      "301   1   1     3  \n",
      "302   1   1     2  \n",
      "\n",
      "[303 rows x 13 columns]\n"
     ]
    }
   ],
   "source": [
    "#We can now standardize our features\n",
    "\n",
    "#list of columns that are numerical\n",
    "\n",
    "num_list = df.select_dtypes(exclude=['category']).columns\n",
    "print(df[num_list])\n",
    "\n",
    "df[num_list] = StandardScaler().fit_transform(df[num_list])\n",
    "print(df)"
   ]
  },
  {
   "cell_type": "markdown",
   "metadata": {},
   "source": [
    "## We need to check for some cat features if they have some degree of impact in the result "
   ]
  },
  {
   "cell_type": "code",
   "execution_count": 11,
   "metadata": {},
   "outputs": [
    {
     "name": "stdout",
     "output_type": "stream",
     "text": [
      "          age sex cp    trtbps      chol fbs restecg  thalachh exng   oldpeak  \\\n",
      "0    0.952197   1  3  0.763956 -0.256334   1       0  0.015443    0  1.087338   \n",
      "1   -1.915313   1  2 -0.092738  0.072199   0       1  1.633471    0  2.122573   \n",
      "2   -1.474158   0  1 -0.092738 -0.816773   0       0  0.977514    0  0.310912   \n",
      "3    0.180175   1  1 -0.663867 -0.198357   0       1  1.239897    0 -0.206705   \n",
      "4    0.290464   0  0 -0.663867  2.082050   0       1  0.583939    1 -0.379244   \n",
      "..        ...  .. ..       ...       ...  ..     ...       ...  ...       ...   \n",
      "298  0.290464   0  0  0.478391 -0.101730   0       1 -1.165281    1 -0.724323   \n",
      "299 -1.033002   1  3 -1.234996  0.342756   0       1 -0.771706    0  0.138373   \n",
      "300  1.503641   1  0  0.706843 -1.029353   1       1 -0.378132    0  2.036303   \n",
      "301  0.290464   1  0 -0.092738 -2.227533   0       1 -1.515125    1  0.138373   \n",
      "302  0.290464   0  1 -0.092738 -0.198357   0       0  1.064975    0 -0.896862   \n",
      "\n",
      "    slp caa thall  output  \n",
      "0     0   0     1       1  \n",
      "1     0   0     2       1  \n",
      "2     2   0     2       1  \n",
      "3     2   0     2       1  \n",
      "4     2   0     2       1  \n",
      "..   ..  ..   ...     ...  \n",
      "298   1   0     3       0  \n",
      "299   1   0     3       0  \n",
      "300   1   2     3       0  \n",
      "301   1   1     3       0  \n",
      "302   1   1     2       0  \n",
      "\n",
      "[303 rows x 14 columns]\n"
     ]
    }
   ],
   "source": [
    "## EDA Analysis\n",
    "\n",
    "#build a dummy dtst just for visualization\n",
    "df_extra = pd.concat([df,y], axis = 1)\n",
    "print(df_extra)"
   ]
  },
  {
   "cell_type": "code",
   "execution_count": 12,
   "metadata": {},
   "outputs": [
    {
     "data": {
      "image/png": "[encoded data removed]",
      "text/plain": [
       "<Figure size 432x288 with 5 Axes>"
      ]
     },
     "metadata": {
      "needs_background": "light"
     },
     "output_type": "display_data"
    },
    {
     "name": "stdout",
     "output_type": "stream",
     "text": [
      "Observing the above plot we can not clearly see a correlation between the number of cases and the order of the categorical features. Therefore we will convert this categrical variables into one-hot encoding.\n"
     ]
    }
   ],
   "source": [
    "fig, axs = plt.subplots(1, 5, sharey=True)\n",
    "sns.barplot(ax=axs[0], x = 'cp', y='output', data=df_extra)\n",
    "sns.barplot(ax=axs[1], x = 'restecg', y='output', data=df_extra)\n",
    "sns.barplot(ax=axs[2], x = 'slp', y='output', data=df_extra)\n",
    "sns.barplot(ax=axs[3], x = 'caa', y='output', data=df_extra)\n",
    "sns.barplot(ax=axs[4], x = 'thall', y='output', data=df_extra)\n",
    "plt.show()\n",
    "\n",
    "print('Observing the above plot we can not clearly see a correlation between the number of cases and the order of \\\n",
    "the categorical features. Therefore we will convert this categrical variables into one-hot encoding.')"
   ]
  },
  {
   "cell_type": "code",
   "execution_count": 13,
   "metadata": {},
   "outputs": [],
   "source": [
    "df = pd.get_dummies(df, columns = cat_list, drop_first=True)"
   ]
  },
  {
   "cell_type": "code",
   "execution_count": 14,
   "metadata": {},
   "outputs": [
    {
     "name": "stdout",
     "output_type": "stream",
     "text": [
      "        age    trtbps      chol  thalachh   oldpeak  sex_1  cp_1  cp_2  cp_3  \\\n",
      "0  0.952197  0.763956 -0.256334  0.015443  1.087338      1     0     0     1   \n",
      "1 -1.915313 -0.092738  0.072199  1.633471  2.122573      1     0     1     0   \n",
      "2 -1.474158 -0.092738 -0.816773  0.977514  0.310912      0     1     0     0   \n",
      "3  0.180175 -0.663867 -0.198357  1.239897 -0.206705      1     1     0     0   \n",
      "4  0.290464 -0.663867  2.082050  0.583939 -0.379244      0     0     0     0   \n",
      "\n",
      "   fbs_1  ...  exng_1  slp_1  slp_2  caa_1  caa_2  caa_3  caa_4  thall_1  \\\n",
      "0      1  ...       0      0      0      0      0      0      0        1   \n",
      "1      0  ...       0      0      0      0      0      0      0        0   \n",
      "2      0  ...       0      0      1      0      0      0      0        0   \n",
      "3      0  ...       0      0      1      0      0      0      0        0   \n",
      "4      0  ...       1      0      1      0      0      0      0        0   \n",
      "\n",
      "   thall_2  thall_3  \n",
      "0        0        0  \n",
      "1        1        0  \n",
      "2        1        0  \n",
      "3        1        0  \n",
      "4        1        0  \n",
      "\n",
      "[5 rows x 22 columns]\n"
     ]
    }
   ],
   "source": [
    "print(df.head())"
   ]
  },
  {
   "cell_type": "code",
   "execution_count": 15,
   "metadata": {},
   "outputs": [
    {
     "name": "stdout",
     "output_type": "stream",
     "text": [
      "(203, 22) (203,)\n",
      "(100, 22) (100,)\n"
     ]
    }
   ],
   "source": [
    "#split data into train and test\n",
    "X = np.array(df)\n",
    "X_train, X_test, y_train, y_test = train_test_split(X, y, stratify = y, test_size= 0.33, random_state = 42)\n",
    "\n",
    "print(X_train.shape, y_train.shape)\n",
    "print(X_test.shape, y_test.shape)"
   ]
  },
  {
   "cell_type": "markdown",
   "metadata": {},
   "source": [
    "### *Note: article about feature selection: https://www.analyticsvidhya.com/blog/2020/10/feature-selection-techniques-in-machine-learning/"
   ]
  },
  {
   "cell_type": "markdown",
   "metadata": {},
   "source": [
    "## Adjustment of hyperparameters with Cross Validation"
   ]
  },
  {
   "cell_type": "code",
   "execution_count": 54,
   "metadata": {},
   "outputs": [],
   "source": [
    "# We are using classification models: LogReg, SVM and DecisionTree\n",
    "# For each model we have wide range of hyperparameters. Let's define them\n",
    "\n",
    "param_logreg = {'penalty': ('l1','l2'), 'C' : [0.05, 0.15, 0.25, 0.35, 0.45,0.55, 0.65, 0.75,0.85, 1] }\n",
    "\n",
    "param_svm = {'kernel':('linear', 'rbf'), 'C':[0.1, 1, 10,]}\n",
    "\n",
    "param_dt = {'max_depth': [3, 4, 5, 6, 8], 'min_samples_leaf':[0.04, 0.06, 0.08],\n",
    "           'max_features': [0.2, 0.4, 0.6, 0.8]}\n"
   ]
  },
  {
   "cell_type": "code",
   "execution_count": 49,
   "metadata": {},
   "outputs": [
    {
     "name": "stdout",
     "output_type": "stream",
     "text": [
      "Best Hyperparam for LogReg: \n",
      " {'C': 0.15, 'penalty': 'l2'}\n",
      "With accuracy of: \n",
      " 0.8571428571428571\n",
      "Test set accuracy is: \n",
      " 0.8\n",
      "Predicted   0   1\n",
      "Actual           \n",
      "0          36  10\n",
      "1          10  44\n"
     ]
    }
   ],
   "source": [
    "#Now let's perform a gridsearch cv for each model and get best parameters and score\n",
    "\n",
    "logreg = LogisticRegression(solver='liblinear')\n",
    "\n",
    "grid_logreg = GridSearchCV(estimator = logreg, param_grid = param_logreg, scoring='accuracy', cv=5)\n",
    "grid_logreg.fit(X_train, y_train)\n",
    "best_logreg = grid_logreg.best_params_\n",
    "print('Best Hyperparam for LogReg: \\n', best_logreg)\n",
    "best_logreg_score = grid_logreg.best_score_\n",
    "print('With accuracy of: \\n', best_logreg_score)\n",
    "\n",
    "#extract the model w/ best hyper\n",
    "best_model_logreg = grid_logreg.best_estimator_\n",
    "print('Test set accuracy is: \\n', best_model_logreg.score(X_test, y_test))\n",
    "\n",
    "y_pred = grid_logreg.predict(X_test)\n",
    "c_matrix = pd.crosstab(y_test, y_pred, rownames=['Actual'], colnames=['Predicted'])\n",
    "print(c_matrix)"
   ]
  },
  {
   "cell_type": "code",
   "execution_count": 50,
   "metadata": {},
   "outputs": [
    {
     "name": "stdout",
     "output_type": "stream",
     "text": [
      "Best Hyperparam for SVM: \n",
      " {'C': 0.1, 'kernel': 'rbf'}\n",
      "With accuracy of: \n",
      " 0.8738195837146361\n",
      "Test set accuracy is: \n",
      " 0.8\n",
      "Predicted   0   1\n",
      "Actual           \n",
      "0          33  13\n",
      "1           7  47\n"
     ]
    }
   ],
   "source": [
    "svm = SVC(gamma='auto')\n",
    "grid_svm = GridSearchCV(estimator = svm, param_grid = param_svm, cv=5, scoring='recall')\n",
    "grid_svm.fit(X_train, y_train)\n",
    "best_svm = grid_svm.best_params_\n",
    "print('Best Hyperparam for SVM: \\n', best_svm)\n",
    "best_svm_score = grid_svm.best_score_\n",
    "print('With accuracy of: \\n', best_svm_score)\n",
    "\n",
    "#extract the model w/ best hyper\n",
    "best_model_svm = grid_svm.best_estimator_\n",
    "print('Test set accuracy is: \\n', best_model_svm.score(X_test, y_test))\n",
    "y_pred_svm = grid_svm.predict(X_test)\n",
    "c_matrix_svm = pd.crosstab(y_test, y_pred_svm, rownames=['Actual'], colnames=['Predicted'])\n",
    "print(c_matrix_svm)"
   ]
  },
  {
   "cell_type": "code",
   "execution_count": 56,
   "metadata": {},
   "outputs": [
    {
     "name": "stdout",
     "output_type": "stream",
     "text": [
      "Best Hyperparam for Decision Tree: \n",
      " {'max_depth': 3, 'max_features': 0.4, 'min_samples_leaf': 0.08}\n",
      "With accuracy of: \n",
      " 0.8278393270897019\n",
      "Test set accuracy is: \n",
      " 0.71\n",
      "Predicted   0   1\n",
      "Actual           \n",
      "0          24  22\n",
      "1           7  47\n"
     ]
    }
   ],
   "source": [
    "dt = DecisionTreeClassifier(random_state=1)\n",
    "grid_dt = GridSearchCV(estimator = dt, param_grid = param_dt, cv=5, scoring='recall')\n",
    "grid_dt.fit(X_train, y_train)\n",
    "best_dt = grid_dt.best_params_\n",
    "print('Best Hyperparam for Decision Tree: \\n', best_dt)\n",
    "best_dt_score = grid_dt.best_score_\n",
    "print('With accuracy of: \\n', best_dt_score)\n",
    "\n",
    "#extract the model w/ best hyper\n",
    "best_model_dt = grid_dt.best_estimator_\n",
    "print('Test set accuracy is: \\n', best_model_dt.score(X_test, y_test))\n",
    "y_pred_dt = grid_dt.predict(X_test)\n",
    "c_matrix_dt = pd.crosstab(y_test, y_pred_dt, rownames=['Actual'], colnames=['Predicted'])\n",
    "print(c_matrix_dt)"
   ]
  },
  {
   "cell_type": "code",
   "execution_count": 68,
   "metadata": {},
   "outputs": [
    {
     "name": "stdout",
     "output_type": "stream",
     "text": [
      "Best hyperparameters: \n",
      " {'max_depth': 4, 'max_features': 'log2', 'min_samples_leaf': 0.04, 'n_estimators': 100}\n",
      "With accuracy of: \n",
      " 0.8423645320197044\n",
      "Predicted   0   1\n",
      "Actual           \n",
      "0          33  13\n",
      "1           9  45\n"
     ]
    }
   ],
   "source": [
    "## Random Forest Classifier\n",
    "\n",
    "rf = RandomForestClassifier(random_state=1)\n",
    "\n",
    "params_rf = {'n_estimators': [100,200,300], 'max_depth': [2,3,4,6,8],\n",
    "            'min_samples_leaf':[0.02, 0.04, 0.06, 0.08], 'max_features': ['log2']}\n",
    "\n",
    "grid_rf = GridSearchCV(estimator=rf, param_grid=params_rf, scoring='accuracy', cv=5)\n",
    "\n",
    "grid_rf.fit(X_train, y_train)\n",
    "\n",
    "best_rf = grid_rf.best_params_\n",
    "print('Best hyperparameters: \\n', best_rf)\n",
    "best_rf_score = grid_rf.best_score_\n",
    "print('With accuracy of: \\n', best_rf_score)\n",
    "\n",
    "y_pred_rf = grid_rf.predict(X_test)\n",
    "c_matrix_rf = pd.crosstab(y_test, y_pred_rf, rownames=['Actual'], colnames=['Predicted'])\n",
    "print(c_matrix_rf)"
   ]
  },
  {
   "cell_type": "code",
   "execution_count": 123,
   "metadata": {},
   "outputs": [
    {
     "name": "stdout",
     "output_type": "stream",
     "text": [
      "Precision:  0.8484848484848485\n",
      "Recall:  0.8484848484848485\n",
      "F1 score:  0.8484848484848486\n"
     ]
    }
   ],
   "source": [
    "tn, fp, fn, tp = confusion_matrix(y_test, y_pred).ravel()\n",
    "precision = tp / (tp + fp)\n",
    "recall = tp / (tp + fn)\n",
    "f1 = 2 * (precision * recall) / (precision + recall)\n",
    "\n",
    "print('Precision: ',precision)\n",
    "print('Recall: ', recall)\n",
    "print('F1 score: ',f1)"
   ]
  }
 ],
 "metadata": {
  "kernelspec": {
   "display_name": "Python 3",
   "language": "python",
   "name": "python3"
  },
  "language_info": {
   "codemirror_mode": {
    "name": "ipython",
    "version": 3
   },
   "file_extension": ".py",
   "mimetype": "text/x-python",
   "name": "python",
   "nbconvert_exporter": "python",
   "pygments_lexer": "ipython3",
   "version": "3.7.4"
  }
 },
 "nbformat": 4,
 "nbformat_minor": 2
}
